{
 "cells": [
  {
   "cell_type": "markdown",
   "source": [
    "## 1. Data preparation\n",
    "\n",
    "[Data source](https://singlecell.broadinstitute.org/single_cell/study/SCP1300/single-cell-atlas-of-the-human-cerebellum-in-ataxia-telangiectasia?tab=heatmap#study-visualize)"
   ],
   "metadata": {
    "collapsed": false
   },
   "id": "b5054349ac7bbdd9"
  },
  {
   "cell_type": "code",
   "outputs": [],
   "source": [
    "import numpy as np\n",
    "import pandas as pd\n",
    "import anndata as ad"
   ],
   "metadata": {
    "collapsed": false,
    "ExecuteTime": {
     "end_time": "2024-05-31T14:54:51.639415Z",
     "start_time": "2024-05-31T14:54:51.636922Z"
    }
   },
   "id": "edb9064019241c88",
   "execution_count": 6
  },
  {
   "cell_type": "code",
   "outputs": [],
   "source": [
    "with open(\"../data/source/20210217_ATCB_expressionmatrix.tsv/20210217_ATCB_expressionmatrix.tsv\") as dat:\n",
    "    adata = ad.read_csv(dat, delimiter=\"\\t\")\n",
    "adata"
   ],
   "metadata": {
    "collapsed": false,
    "is_executing": true,
    "ExecuteTime": {
     "start_time": "2024-05-31T14:57:10.409645Z"
    }
   },
   "id": "ce1378c93407b7a8",
   "execution_count": null
  },
  {
   "cell_type": "code",
   "outputs": [],
   "source": [],
   "metadata": {
    "collapsed": false,
    "ExecuteTime": {
     "start_time": "2024-05-31T14:54:47.762898Z"
    }
   },
   "id": "cc821dc6306e0912"
  }
 ],
 "metadata": {
  "kernelspec": {
   "display_name": "Python 3",
   "language": "python",
   "name": "python3"
  },
  "language_info": {
   "codemirror_mode": {
    "name": "ipython",
    "version": 2
   },
   "file_extension": ".py",
   "mimetype": "text/x-python",
   "name": "python",
   "nbconvert_exporter": "python",
   "pygments_lexer": "ipython2",
   "version": "2.7.6"
  }
 },
 "nbformat": 4,
 "nbformat_minor": 5
}
