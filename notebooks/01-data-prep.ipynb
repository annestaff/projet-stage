{
 "cells": [
  {
   "cell_type": "markdown",
   "id": "b5054349ac7bbdd9",
   "metadata": {
    "collapsed": false
   },
   "source": [
    "## 1. Data preparation\n",
    "\n",
    "[Data source](https://singlecell.broadinstitute.org/single_cell/study/SCP1300/single-cell-atlas-of-the-human-cerebellum-in-ataxia-telangiectasia?tab=heatmap#study-visualize)"
   ]
  },
  {
   "cell_type": "code",
   "execution_count": 2,
   "id": "edb9064019241c88",
   "metadata": {
    "ExecuteTime": {
     "end_time": "2024-05-31T15:01:21.007729Z",
     "start_time": "2024-05-31T15:01:20.394554Z"
    },
    "collapsed": false
   },
   "outputs": [],
   "source": [
    "import numpy as np\n",
    "import pandas as pd\n",
    "import anndata as ad"
   ]
  },
  {
   "cell_type": "code",
   "execution_count": null,
   "id": "ce1378c93407b7a8",
   "metadata": {
    "collapsed": false,
    "is_executing": true,
    "ExecuteTime": {
     "start_time": "2024-05-31T15:10:27.898434Z"
    }
   },
   "outputs": [],
   "source": [
    "with open(\"../data/source/20210217_ATCB_expressionmatrix.tsv/20210217_ATCB_expressionmatrix.tsv\") as dat:\n",
    "    adata = ad.read_csv(dat, delimiter=\"\\t\")\n",
    "adata"
   ]
  },
  {
   "cell_type": "code",
   "execution_count": null,
   "id": "cc821dc6306e0912",
   "metadata": {
    "collapsed": false,
    "ExecuteTime": {
     "start_time": "2024-05-31T15:09:57.714033Z"
    }
   },
   "outputs": [],
   "source": [
    "adata.X"
   ]
  },
  {
   "cell_type": "code",
   "execution_count": null,
   "id": "eb1f2760173faeea",
   "metadata": {
    "collapsed": false
   },
   "outputs": [],
   "source": []
  }
 ],
 "metadata": {
  "kernelspec": {
   "display_name": "Python 3 (ipykernel)",
   "language": "python",
   "name": "python3"
  },
  "language_info": {
   "codemirror_mode": {
    "name": "ipython",
    "version": 3
   },
   "file_extension": ".py",
   "mimetype": "text/x-python",
   "name": "python",
   "nbconvert_exporter": "python",
   "pygments_lexer": "ipython3",
   "version": "3.12.3"
  }
 },
 "nbformat": 4,
 "nbformat_minor": 5
}
